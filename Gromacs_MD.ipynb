{
  "nbformat": 4,
  "nbformat_minor": 0,
  "metadata": {
    "colab": {
      "name": "Gromacs-MD.ipynb",
      "provenance": [],
      "collapsed_sections": []
    },
    "kernelspec": {
      "display_name": "Python 3",
      "language": "python",
      "name": "python3"
    },
    "language_info": {
      "codemirror_mode": {
        "name": "ipython",
        "version": 3
      },
      "file_extension": ".py",
      "mimetype": "text/x-python",
      "name": "python",
      "nbconvert_exporter": "python",
      "pygments_lexer": "ipython3",
      "version": "3.8.5"
    },
    "accelerator": "GPU"
  },
  "cells": [
    {
      "cell_type": "markdown",
      "metadata": {
        "id": "fdb_tnyrKpzN"
      },
      "source": [
        "\n",
        "# This notebook for a general solution simulation on cloud wtih Gromacs.\n",
        "\n",
        "This notebook take http://www.mdtutorials.com/gmx/complex/ as a overall reference, the basic idea is to move this tutorial online as much as possible.\n",
        "\n",
        "quantaosun@gmail.com created this notebook\n",
        "\n",
        "Credit to the work of giribio/MDNotebooks as well, since the software\n",
        "compilation method is borrowed there.\n",
        "\n",
        "This notebook is still under editing, so maybe just follow my repository for a complete version later.\n",
        "\n",
        "\n",
        "\n",
        "\n",
        "\n"
      ]
    },
    {
      "cell_type": "code",
      "metadata": {
        "id": "5lGZeCWrF30n",
        "cellView": "form"
      },
      "source": [
        "#@title 1. Compile Cmake and install Obabel\n",
        "%%bash\n",
        "lscpu\n",
        "nvidia-smi\n",
        "# Let's install a tool to get access to the ABFE input files from google drive\n",
        "\n",
        "#Let us download the latest CMake - required for Gromacs 2021\n",
        "\n",
        "wget https://github.com/Kitware/CMake/releases/download/v3.20.0-rc1/cmake-3.20.0-rc1.tar.gz\n",
        "tar xfz cmake-3.20.0-rc1.tar.gz\n",
        "## Install cmake\n",
        "\n",
        "mkdir /content/cmake-3.20.0-rc1/build\n",
        "cd /content/cmake-3.20.0-rc1/build\n",
        "cmake /content/cmake-3.20.0-rc1/\n",
        "make -j 2\n",
        "make install\n",
        "cd /content/\n",
        "# Install open babel\n",
        "wget https://repo.anaconda.com/miniconda/Miniconda3-py37_4.8.2-Linux-x86_64.sh &> /dev/null\n",
        "chmod +x Miniconda3-py37_4.8.2-Linux-x86_64.sh &> /dev/null\n",
        "bash ./Miniconda3-py37_4.8.2-Linux-x86_64.sh -b -f -p /usr/local &> /dev/null\n",
        "conda install -c openbabel openbabel\n",
        "#wget https://github.com/openbabel/openbabel/archive/refs/tags/openbabel-3-1-1.tar.gz\n",
        "#tar -xzvf openbabel-3-1-1.tar.gz\n",
        "#cd openbabel-openbabel-3-1-1/\n",
        "#ls\n",
        "#mkdir build\n",
        "#cd build\n",
        "#cmake ../\n",
        "#make\n",
        "#make install\n",
        "#cd /content/\n",
        "# Install netx \n",
        "!yes | pip uninstall networkx\n",
        "!pip install networkx==2.3 "
      ],
      "execution_count": null,
      "outputs": []
    },
    {
      "cell_type": "code",
      "metadata": {
        "id": "i4LublKW-ZRS",
        "cellView": "form"
      },
      "source": [
        "#@title 2.Compile Gromacs, this will take some time, be patient.\n",
        "%%bash\n",
        "wget ftp://ftp.gromacs.org/gromacs/gromacs-2021.tar.gz\n",
        "tar xfz gromacs-2021.tar.gz\n",
        "cd /content/gromacs-2021\n",
        "mkdir /content/gromacs-2021/build\n",
        "cd /content/gromacs-2021/build\n",
        "cmake .. -DGMX_BUILD_OWN_FFTW=ON -DREGRESSIONTEST_DOWNLOAD=ON -DGMX_GPU=CUDA\n",
        "make -j 2\n",
        "make install\n",
        "cd /content"
      ],
      "execution_count": null,
      "outputs": []
    },
    {
      "cell_type": "code",
      "metadata": {
        "id": "lExZoYpEoWhX",
        "cellView": "form"
      },
      "source": [
        "#@title 3.Input PDB ID you want to simulate. Note if your protein have missing residues you should fix it before using this notebook.\n",
        "complex = \"3htb\" #@param {type:\"string\"}\n",
        "ligand = \"JZ4\" #@param {type:\"string\"}\n",
        "pdb = complex + \".pdb\"\n",
        "LIGNAD = ligand + \".pdb\"\n",
        "#!/home/aistudio/external-libraries/bin/pdbfixer  '{pdb}' --ph=7  --replace-nonstandard --add-residues \n",
        "!wget wget https://files.rcsb.org/download/'{pdb}' > prot.pdb\n",
        "!grep -v HOH '{pdb}' > prot_clean.pdb\n",
        "!grep '{ligand}' prot_clean.pdb > '{ligand}'.pdb\n",
        "!grep HETATM '{ligand}'.pdb > LIG.pdb\n",
        "!grep -v '{ligand}' prot_clean.pdb > prot_clean2.pdb\n",
        "!grep -v PO4 prot_clean2.pdb > prot_clean3.pdb \n",
        "!grep -v BME prot_clean3.pdb > prot_clean4.pdb\n",
        "!grep ATOM prot_clean4.pdb > prot_clean5.pdb\n",
        "!grep -v REMARK prot_clean5.pdb > prot_clean6.pdb\n",
        " # here we drop all co-factors to have only protein itself\n",
        "#substitute all ligand name to \"LIG\""
      ],
      "execution_count": null,
      "outputs": []
    },
    {
      "cell_type": "code",
      "metadata": {
        "cellView": "form",
        "id": "QNtQ0KJVdXJ8"
      },
      "source": [
        "#@title Change original ligand name to LIG\n",
        "ligand = \"JZ4\" #@param {type:\"string\"}\n",
        "#!sed  \"s/JZ4/LIG/g\" LIG.pdb \n",
        "!sed -i \"s/$ligand/LIG/g\" LIG.pdb"
      ],
      "execution_count": null,
      "outputs": []
    },
    {
      "cell_type": "code",
      "metadata": {
        "id": "9es3gqnyCTfK",
        "cellView": "form"
      },
      "source": [
        "#@title  Add hydrogen to LIG.pdb, and Modify small molecule files\n",
        "ligand_name = \"\" #@param {type:\"string\"}\n",
        "ligand_NAME = ligand_name + \".pdb\"\n",
        "!obabel -ipdb LIG.pdb -omol2 -O LIG_H.mol2 -h # convert the format and add hydrogen atoms\n",
        "#!sed -i \"s/'{ligand_NAME}'/'{ligand_name}'/\" LIG.mol2\n",
        "!cat LIG_H.mol2\n",
        "!wget http://www.mdtutorials.com/gmx/complex/Files/sort_mol2_bonds.pl\n",
        "!perl sort_mol2_bonds.pl LIG_H.mol2 LIG_H_fix.mol2 \n",
        "!cat LIG_fix.mol2 # pay attention to the bond order section"
      ],
      "execution_count": null,
      "outputs": []
    },
    {
      "cell_type": "markdown",
      "metadata": {
        "id": "gw1G7QFKMZsX"
      },
      "source": [
        "# Download the LIG_H_fix.mol2 and updoad to CGenff server Then download and upload LIG_H_fix.str here. https://cgenff.umaryland.edu/userAccount/userLogin.php \n"
      ]
    },
    {
      "cell_type": "code",
      "metadata": {
        "cellView": "form",
        "id": "i7lfLdaAS-XZ"
      },
      "source": [
        "#@title Generate ligand.gro file\n",
        "!wget http://mackerell.umaryland.edu/download.php?filename=CHARMM_ff_params_files/cgenff_charmm2gmx_py3_nx2.py\n",
        "!mv download.php\\?filename\\=CHARMM_ff_params_files%2Fcgenff_charmm2gmx_py3_nx2.py cgenff_charmm2gmx_py3_nx2.py\n",
        "#There might be an error, but that shouldn't influence this simulation job, so just ignore it.\n",
        "!python cgenff_charmm2gmx_py3_nx2.py LIG LIG__H_fix.mol2 LIG_H_fix.str charmm36-mar2019.ff\n",
        "#After this, the output jz4_ini.pdb contains all the 22 atoms of the ligand JZ4\n",
        "!/usr/local/gromacs/bin/gmx editconf -f LIG_ini.pdb -o LIG_H_fix.gro\n",
        "#Let's have a look at jz4.gro\n",
        "!cat LIG_H_fix.gro"
      ],
      "execution_count": null,
      "outputs": []
    },
    {
      "cell_type": "code",
      "metadata": {
        "id": "rzK73Q_1_sCg",
        "cellView": "form"
      },
      "source": [
        "#@title Download protein topology file\n",
        "!wget http://mackerell.umaryland.edu/download.php?filename=CHARMM_ff_params_files/charmm36-mar2019.ff.tgz\n",
        "!mv download.php?filename=CHARMM_ff_params_files%2Fcharmm36-mar2019.ff.tgz charmm36-mar2019.ff.tgz\n",
        "!tar -zxvf charmm36-mar2019.ff.tgz\n",
        "!rm charmm36-mar2019.ff.tgz\n",
        "!pwd"
      ],
      "execution_count": null,
      "outputs": []
    },
    {
      "cell_type": "code",
      "metadata": {
        "id": "UyHtDcmm5uqy",
        "cellView": "form"
      },
      "source": [
        "#@title Select option 1(charmm36 force field) and optino 1 (TIP3 water) for next command\n",
        "!source /usr/local/gromacs/bin/GMXRC\n",
        "!echo \"source /usr/local/gromacs/bin/GMXRC\" >> ~/.bashrc\n",
        "!source ~/.bashrc\n",
        "#select option 1(charmm36 force field) and optino 1 (TIP3 water) for next command\n",
        "!pwd\n",
        "#Use pdb2gmx to convert pdb to gro file\n",
        "!/usr/local/gromacs/bin/gmx pdb2gmx -f prot_clean6.pdb -o prot_pros.gro \n",
        "!tail topol.top\n"
      ],
      "execution_count": null,
      "outputs": []
    },
    {
      "cell_type": "code",
      "metadata": {
        "id": "4BrkRjtmBjSi",
        "cellView": "form"
      },
      "source": [
        "#@title Combine protein and ligand, and write down the atom numbers in \"temp.txt\" as\"Old_atom_number\"\n",
        "!cat prot_pros.gro > complex.gro\n",
        "#Always have a look at the file you just produced,there should be 2614 atoms inside\n",
        "!cat complex.gro\n",
        "!tail -1 complex.gro > last_line.txt\n",
        "\n",
        "!cat last_line.txt\n",
        "!head -n -1 complex.gro > temp.txt\n",
        "\n",
        "!cat temp.txt\n",
        "#There still 2614 atoms inside temp.txt but the last line of box vector is moved out temperarily.\n",
        "#Let's combine jz4.gro and complex.gro now\n",
        "!cat LIG_H_fix.gro\n",
        "!grep LIG LIG_H_fix.gro >> temp.txt\n",
        "\n",
        "#Let's have a look at if the ligand atoms have been added after the protein atoms\n",
        "!cat temp.txt\n",
        "#Next let's add the box vector back to the last line.\n",
        "!cat last_line.txt >> temp.txt\n",
        "!head -10 temp.txt\n",
        "!tail -30 temp.txt\n"
      ],
      "execution_count": null,
      "outputs": []
    },
    {
      "cell_type": "code",
      "metadata": {
        "cellView": "form",
        "id": "jVDHE8ZVTgbx"
      },
      "source": [
        "#@title We need to increase the atom number claim\n",
        "\n",
        "Old_atom_number = \"\" #@param {type:\"string\"}\n",
        "New_atom_number = \"\" #@param {type:\"string\"}\n",
        "!sed -i \"s/'{Old_atom_number}'/'{New_atom_number}'/\" temp.txt\n",
        "!head -10 temp.txt\n",
        "!cat temp.txt > complex.gro # I use cat instead of mv, just to keep the temp.txt copy in case later we need it.\n",
        "!head complex.gro"
      ],
      "execution_count": null,
      "outputs": []
    },
    {
      "cell_type": "code",
      "metadata": {
        "id": "ata7Zc3ieMd_",
        "cellView": "form"
      },
      "source": [
        "#@title Fix the topology\n",
        "!cat topol.top > topol.txt\n",
        "!tail -25 topol.txt\n",
        "!sed -i \"/; Include water topology/ { N; s/; Include water topology\\n/; Include ligand topology #include \"LIG.itp\"\\n&/ }\" topol.txt\n",
        "#you shoud see there is one more line before **\"Include water topology\"** now you need to put \"#inclue \"jz4.inp\" to the next line. Pay attention to the **\" \"**, since they are likely to be missed out.\n",
        "!tail -25 topol.txt\n",
        "#Please make sure you have put the following before \n",
        "#**Include water topology.**\n",
        "\n",
        "#```\n",
        "#; Include ligand topology \n",
        "#include \"jz4.itp\"\n",
        "#```\n",
        "\n",
        "!tail -25 topol.txt\n",
        "!echo \"LIG           1\" >> topol.txt\n",
        "!tail -25 topol.txt\n",
        "#Now you should notice there is one more line at the end\n",
        "\n",
        "\n",
        "#```\n",
        "#Protein_chain_A     1\n",
        "#```\n",
        "#manually insert the another block,\n",
        "\n",
        "#```\n",
        "#; Include ligand parameters\n",
        " #include \"jz4.prm\"\n",
        "#```\n",
        "#before [moleculetype]\n",
        "!head -30 topol.txt\n",
        "!cat topol.txt > topol.top # again, here I used cat instead of mv to keep topol.txt as an extra copy in case there might be an error later\n",
        "#Let's double check the topol.top\n",
        "!cat topol.top"
      ],
      "execution_count": null,
      "outputs": []
    },
    {
      "cell_type": "code",
      "metadata": {
        "id": "QG1rFpGeU132",
        "cellView": "form"
      },
      "source": [
        "#@title Gromacs simulation\n",
        "!/usr/local/gromacs/bin/gmx editconf -f complex.gro -o newbox.gro -bt dodecahedron -d 10.0 \n",
        "#After this, there shouldn't be any change in the topology file, since there is only a \"box\" was added to the gro file\n",
        "#There should be a newbox.gro files was written as an output.\n",
        "!tail topol.top\n",
        "!/usr/local/gromacs/bin/gmx solvate -cp newbox.gro -cs spc216.gro -p topol.top -o solv.gro \n",
        "!tail topol.top\n",
        "#Now you should see 10294 waters added to the topology, \n",
        "!wget http://www.mdtutorials.com/gmx/complex/Files/ions.mdp\n",
        "!/usr/local/gromacs/bin/gmx grompp -f ions.mdp -c solv.gro -p topol.top -o ions.tpr\n",
        "\n",
        "#**If you encounter an error here saying that you have different atom numbers in gro and top file, open the topol.top file to see if the JZ4 molecule type had bee actually added to the last block of the top file.**\n",
        "#please select group 15:SOL for the next command\n",
        "!/usr/local/gromacs/bin/gmx genion -s ions.tpr -o solv_ions.gro -p topol.top -pname NA -nname CL -neutral \n",
        "\n",
        "!tail topol.top\n",
        "#Now you should see the solvent have decreased a little bit and 6 more chloride ions added instead\n",
        "!wget http://www.mdtutorials.com/gmx/complex/Files/em.mdp\n",
        "!/usr/local/gromacs/bin/gmx grompp -f em.mdp -c solv_ions.gro -p topol.top -o em.tpr\n",
        "!/usr/local/gromacs/bin/gmx  mdrun -ntmpi 2 -ntomp 1 -v -deffnm em -nb gpu\n",
        "# -ntmpi 2 -ntomp 1 -pin on -nb gpu (ommand improved)\n",
        "# Make restrains\n",
        "\n"
      ],
      "execution_count": null,
      "outputs": []
    },
    {
      "cell_type": "code",
      "metadata": {
        "id": "INYtKzs3YJfV"
      },
      "source": [
        "# > 0 & ! a H*\n",
        "# > q"
      ],
      "execution_count": null,
      "outputs": []
    },
    {
      "cell_type": "code",
      "metadata": {
        "cellView": "form",
        "id": "UhvhRk4nUHHj"
      },
      "source": [
        "#@title Make Restrain and start simulation\n",
        "#```\n",
        "## Input this for the next command\n",
        "# > 0 & ! a H*\n",
        "# > q\n",
        "#```\n",
        "\n",
        "!/usr/local/gromacs/bin/gmx make_ndx -f LIG.gro -o index_LIG.ndx\n",
        "#select **\"group 3\"** for the next command\n",
        "!/usr/local/gromacs/bin/gmx genrestr -f jz4.gro -n index_LIG.ndx -o posre_LIG.itp -fc 1000 1000 1000\n",
        "# **next we need to modify the topology file again**\n",
        "! cat topol.top > topol_2.txt\n",
        "#copy and pase this before **\"Include waters topology\"**\n",
        "\n",
        "#``` \n",
        "#; Ligand position restraints\n",
        "##ifdef POSRES\n",
        "##include \"posre_jz4.itp\"\n",
        "##endif\n",
        "#```\n",
        "#I don't suggest you use next line command unless you know what it exactly will do, just copy and paste maybe. \n",
        "#!sed -i \"/; Include water topology/ { N; s/; Include water topology\\n/; Ligand position restraints ifdef POSRES include \"posre_jz4.itp\" endif\\n&/ }\" topol_2.txt\n",
        "!tail -30 topol_2.txt\n",
        "!cat topol_2.txt > topol.top \n",
        "#**Input this for the next command**\n",
        "#```\n",
        "#> 1 | 13\n",
        "#> q\n",
        "#```\n",
        "#温度控制\n",
        "!/usr/local/gromacs/bin/gmx make_ndx -f em.gro -o index.ndx\n"
      ],
      "execution_count": null,
      "outputs": []
    },
    {
      "cell_type": "code",
      "metadata": {
        "cellView": "form",
        "id": "hlfZyuUOWUdR"
      },
      "source": [
        "#@title NVT\n",
        "%%bash\n",
        "wget http://www.mdtutorials.com/gmx/complex/Files/nvt.mdp\n",
        "gmx grompp -f nvt.mdp -c em.gro -r em.gro -p topol.top -n index.ndx -o nvt.tpr\n",
        "\n",
        "gmx mdrun -deffnm nvt"
      ],
      "execution_count": null,
      "outputs": []
    },
    {
      "cell_type": "code",
      "metadata": {
        "cellView": "form",
        "id": "kB7IDeOuWqSA"
      },
      "source": [
        "#@title NPT\n",
        "%%bash \n",
        "wget http://www.mdtutorials.com/gmx/complex/Files/npt.mdp\n",
        "gmx grompp -f npt.mdp -c nvt.gro -t nvt.cpt -r nvt.gro -p topol.top -n index.ndx -o npt.tpr\n",
        "\n",
        "gmx mdrun -deffnm npt"
      ],
      "execution_count": null,
      "outputs": []
    },
    {
      "cell_type": "code",
      "metadata": {
        "cellView": "form",
        "id": "VGfeJ3gnWwn4"
      },
      "source": [
        "#@title Production\n",
        "%%bash\n",
        "wget http://www.mdtutorials.com/gmx/complex/Files/md.mdp\n",
        "gmx grompp -f md.mdp -c npt.gro -t npt.cpt -p topol.top -n index.ndx -o md_0_10.tpr\n",
        "\n",
        "gmx mdrun -deffnm md_0_10"
      ],
      "execution_count": null,
      "outputs": []
    },
    {
      "cell_type": "code",
      "metadata": {
        "cellView": "form",
        "id": "lKUtxac1W7Io"
      },
      "source": [
        "#@title Analysis. Choose \"Protein\" for centering and \"System\" for output.\n",
        "gmx trjconv -s md_0_10.tpr -f md_0_10.xtc -o md_0_10_center.xtc -center -pbc mol -ur compact"
      ],
      "execution_count": null,
      "outputs": []
    },
    {
      "cell_type": "code",
      "metadata": {
        "cellView": "form",
        "id": "J-CzZobQXNBv"
      },
      "source": [
        "#@title To extract the first frame (t = 0 ns) of the trajectory, use trjconv -dump with the recentered trajectory:\n",
        "%%bash\n",
        "gmx trjconv -s md_0_10.tpr -f md_0_10_center.xtc -o start.pdb -dump 0"
      ],
      "execution_count": null,
      "outputs": []
    },
    {
      "cell_type": "markdown",
      "metadata": {
        "id": "KgJzSxE4X6HW"
      },
      "source": [
        "# More about Analyzing Protein-Ligand Interactions and Ligand Dynamics\n",
        "http://www.mdtutorials.com/gmx/complex/09_analysis.html"
      ]
    }
  ]
}