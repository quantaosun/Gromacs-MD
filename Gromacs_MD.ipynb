{
  "nbformat": 4,
  "nbformat_minor": 0,
  "metadata": {
    "colab": {
      "name": "Gromacs-MD.ipynb",
      "provenance": [],
      "collapsed_sections": [],
      "include_colab_link": true
    },
    "kernelspec": {
      "display_name": "Python 3",
      "language": "python",
      "name": "python3"
    },
    "language_info": {
      "codemirror_mode": {
        "name": "ipython",
        "version": 3
      },
      "file_extension": ".py",
      "mimetype": "text/x-python",
      "name": "python",
      "nbconvert_exporter": "python",
      "pygments_lexer": "ipython3",
      "version": "3.8.5"
    },
    "accelerator": "GPU"
  },
  "cells": [
    {
      "cell_type": "markdown",
      "metadata": {
        "id": "view-in-github",
        "colab_type": "text"
      },
      "source": [
        "<a href=\"https://colab.research.google.com/github/quantaosun/Gromacs-MD/blob/main/Gromacs_MD.ipynb\" target=\"_parent\"><img src=\"https://colab.research.google.com/assets/colab-badge.svg\" alt=\"Open In Colab\"/></a>"
      ]
    },
    {
      "cell_type": "markdown",
      "metadata": {
        "id": "fdb_tnyrKpzN"
      },
      "source": [
        "\n",
        "# This notebook for a general solution simulation on cloud wtih Gromacs.\n",
        "\n",
        "This notebook take http://www.mdtutorials.com/gmx/complex/ as a overall reference, the basic idea is to move this tutorial online as much as possible.\n",
        "\n",
        "quantaosun@gmail.com created this notebook\n",
        "\n",
        "Credit to the work of giribio/MDNotebooks as well, since the software\n",
        "compilation method is borrowed there.\n",
        "\n",
        "This notebook is still under editing, so maybe just follow my repository for a complete version later.\n",
        "\n",
        "\n",
        "\n",
        "\n",
        "\n"
      ]
    },
    {
      "cell_type": "code",
      "metadata": {
        "id": "5lGZeCWrF30n",
        "cellView": "form"
      },
      "source": [
        "#@title 1. Install Cmake\n",
        "%%bash\n",
        "lscpu\n",
        "nvidia-smi\n",
        "# Let's install a tool to get access to the ABFE input files from google drive\n",
        "\n",
        "#Let us download the latest CMake - required for Gromacs 2021\n",
        "\n",
        "wget https://github.com/Kitware/CMake/releases/download/v3.20.0-rc1/cmake-3.20.0-rc1.tar.gz\n",
        "tar xfz cmake-3.20.0-rc1.tar.gz\n",
        "## Install cmake\n",
        "\n",
        "mkdir /content/cmake-3.20.0-rc1/build\n",
        "cd /content/cmake-3.20.0-rc1/build\n",
        "cmake /content/cmake-3.20.0-rc1/\n",
        "make -j 2\n",
        "make install\n",
        "cd /content/\n",
        "# Install open babel\n",
        "wget https://github.com/openbabel/openbabel/archive/refs/tags/openbabel-3-1-1.tar.gz\n",
        "tar -xzvf openbabel-3-1-1.tar.gz\n",
        "cd openbabel-openbabel-3-1-1/\n",
        "ls\n",
        "mkdir build\n",
        "cd build\n",
        "cmake ../\n",
        "make\n",
        "make install\n",
        "cd /content/\n",
        "# Install netx \n",
        "!yes | pip uninstall networkx\n",
        "!pip install networkx==2.3 "
      ],
      "execution_count": null,
      "outputs": []
    },
    {
      "cell_type": "code",
      "metadata": {
        "id": "i4LublKW-ZRS",
        "cellView": "form"
      },
      "source": [
        "#@title 2.Compile Gromacs\n",
        "%%bash\n",
        "wget ftp://ftp.gromacs.org/gromacs/gromacs-2021.tar.gz\n",
        "tar xfz gromacs-2021.tar.gz\n",
        "cd /content/gromacs-2021\n",
        "mkdir /content/gromacs-2021/build\n",
        "cd /content/gromacs-2021/build\n",
        "cmake .. -DGMX_BUILD_OWN_FFTW=ON -DREGRESSIONTEST_DOWNLOAD=ON -DGMX_GPU=CUDA\n",
        "make -j 2\n",
        "make install\n",
        "cd /content"
      ],
      "execution_count": null,
      "outputs": []
    },
    {
      "cell_type": "code",
      "metadata": {
        "id": "lExZoYpEoWhX",
        "cellView": "form"
      },
      "source": [
        "#@title 3.Input PDB ID you want to simulate\n",
        "complex = \"3HTB\" #@param {type:\"string\"}\n",
        "ligand = \"JZ4\" #@param {type:\"string\"}\n",
        "pdb = complex + \".pdb\"\n",
        "LIGNAD = ligand + \".pdb\"\n",
        "#!/home/aistudio/external-libraries/bin/pdbfixer  '{pdb}' --ph=7  --replace-nonstandard --add-residues \n",
        "!!wget http://www.pdb.org/pdb/files/'{pdb}' > prot.pdb\n",
        "!grep -v HOH '{pdb}' > prot_clean.pdb\n",
        "!grep '{ligand}' prot_clean.pdb > '{ligand}'.pdb\n",
        "!grep -v '{ligand}' prot_clean.pdb > prot_clean2.pdb\n",
        "!grep -v PO4 prot_clean2.pdb > prot_clean3.pdb \n",
        "!grep -v BME prot_clean3.pdb > prot_clean4.pdb # here we drop all co-factors to have only protein itself"
      ],
      "execution_count": null,
      "outputs": []
    },
    {
      "cell_type": "markdown",
      "metadata": {
        "id": "gr8gHAOgpiBB"
      },
      "source": [
        "Beaware that the JZ4.pdb as well as the prot_clean4.pdb do not have any hydrogen atoms yet."
      ]
    },
    {
      "cell_type": "code",
      "metadata": {
        "id": "rzK73Q_1_sCg",
        "cellView": "form"
      },
      "source": [
        "#@title 4.Download protein topology file\n",
        "!wget http://mackerell.umaryland.edu/download.php?filename=CHARMM_ff_params_files/charmm36-mar2019.ff.tgz\n",
        "!mv download.php?filename=CHARMM_ff_params_files%2Fcharmm36-mar2019.ff.tgz charmm36-mar2019.ff.tgz\n",
        "!tar -zxvf charmm36-mar2019.ff.tgz\n",
        "!rm charmm36-mar2019.ff.tgz\n",
        "!pwd"
      ],
      "execution_count": null,
      "outputs": []
    },
    {
      "cell_type": "code",
      "metadata": {
        "id": "UyHtDcmm5uqy",
        "cellView": "form"
      },
      "source": [
        "#@title 5.Select option 1(charmm36 force field) and optino 1 (TIP3 water) for next command\n",
        "!source /usr/local/gromacs/bin/GMXRC\n",
        "!echo \"source /usr/local/gromacs/bin/GMXRC\" >> ~/.bashrc\n",
        "!source ~/.bashrc\n",
        "#select option 1(charmm36 force field) and optino 1 (TIP3 water) for next command\n",
        "!pwd\n",
        "#Use pdb2gmx to convert pdb to gro file\n",
        "!/usr/local/gromacs/bin/gmx pdb2gmx -f prot_clean4.pdb -o prot_pros.gro \n",
        "!tail topol.top\n",
        "#Build a working directory for simulation jobs\n",
        "!mkdir jobs\n",
        "%cd jobs/"
      ],
      "execution_count": null,
      "outputs": []
    },
    {
      "cell_type": "code",
      "metadata": {
        "id": "9es3gqnyCTfK",
        "cellView": "form"
      },
      "source": [
        "#@title 6. Modify small molecule files\n",
        "!obabel -ipdb JZ4.pdb -omol2 -O jz4.mol2 -h # convert the format and add hydrogen atoms\n",
        "!sed -i 's/JZ4.pdb/JZ4/' jz4.mol2\n",
        "!cat jz4.mol2\n",
        "!wget http://www.mdtutorials.com/gmx/complex/Files/sort_mol2_bonds.pl\n",
        "!perl sort_mol2_bonds.pl jz4.mol2 jz4_fix.mol2 \n",
        "!cat jz4_fix.mol2 # pay attention to the bond order section"
      ],
      "execution_count": null,
      "outputs": []
    },
    {
      "cell_type": "markdown",
      "metadata": {
        "id": "gw1G7QFKMZsX"
      },
      "source": [
        "# Download the jz4_fix.mol2 and updoad to CGenff server Then paste the result to the mannually touched jz4.txt,then rename to jz4.str https://cgenff.umaryland.edu/userAccount/userLogin.php \n"
      ]
    },
    {
      "cell_type": "code",
      "metadata": {
        "id": "HG-sI7T2Cfi-",
        "cellView": "form"
      },
      "source": [
        "#@title 7. Manipulate small molecule files\n",
        "!touch jz4.txt # the only reason I use text format is it can be directly open upon double clik on the right.\n",
        "!head jz4.txt\n",
        "!mv jz4.txt jz4.str\n",
        "!wget http://mackerell.umaryland.edu/download.php?filename=CHARMM_ff_params_files/cgenff_charmm2gmx_py3_nx2.py\n",
        "!mv download.php\\?filename\\=CHARMM_ff_params_files%2Fcgenff_charmm2gmx_py3_nx2.py cgenff_charmm2gmx_py3_nx2.py\n",
        "#There might be an error, but that shouldn't influence this simulation job, so just ignore it.\n",
        "!python cgenff_charmm2gmx_py3_nx2.py JZ4 jz4_fix.mol2 jz4.str charmm36-mar2019.ff\n",
        "#After this, the output jz4_ini.pdb contains all the 22 atoms of the ligand JZ4\n",
        "!/usr/local/gromacs/bin/gmx editconf -f jz4_ini.pdb -o jz4.gro\n",
        "#Let's have a look at jz4.gro\n",
        "!cat jz4.gro"
      ],
      "execution_count": null,
      "outputs": []
    },
    {
      "cell_type": "markdown",
      "metadata": {
        "id": "EkTpPeiir1Rv"
      },
      "source": [
        "Please be advised you double check the command line has acturally worked, some time you hit the triangle but the result maybe in a russ to write and save to the file as we here all deal with online things, if at \n",
        "that moment your connection is slow, then there is a chance you may fail the command."
      ]
    },
    {
      "cell_type": "code",
      "metadata": {
        "id": "4BrkRjtmBjSi",
        "cellView": "form"
      },
      "source": [
        "#@title 8.Combine protein and ligand\n",
        "!cat prot_pros.gro > complex.gro\n",
        "#Always have a look at the file you just produced,there should be 2614 atoms inside\n",
        "!cat complex.gro\n",
        "!tail -1 complex.gro > last_line.txt\n",
        "\n",
        "!cat last_line.txt\n",
        "!head -n -1 complex.gro > temp.txt\n",
        "\n",
        "!cat temp.txt\n",
        "#There still 2614 atoms inside temp.txt but the last line of box vector is moved out temperarily.\n",
        "#Let's combine jz4.gro and complex.gro now\n",
        "!cat jz4.gro\n",
        "!grep JZ4 jz4.gro >> temp.txt\n",
        "\n",
        "#Let's have a look at if the ligand atoms have been added after the protein atoms\n",
        "!cat temp.txt\n",
        "#Next let's add the box vector back to the last line.\n",
        "!cat last_line.txt >> temp.txt\n",
        "!head -10 temp.txt\n",
        "!tail -30 temp.txt\n",
        "#Finally we need to increase the atom number claim\n",
        "!sed -i '2s/2614/2636/' temp.txt\n",
        "!head -10 temp.txt\n",
        "!cat temp.txt > complex.gro # I use cat instead of mv, just to keep the temp.txt copy in case later we need it.\n",
        "!head complex.gro"
      ],
      "execution_count": null,
      "outputs": []
    },
    {
      "cell_type": "code",
      "metadata": {
        "id": "ata7Zc3ieMd_",
        "cellView": "form"
      },
      "source": [
        "#@title 9.Fix the topology\n",
        "!cat topol.top > topol.txt\n",
        "!tail -25 topol.txt\n",
        "!sed -i \"/; Include water topology/ { N; s/; Include water topology\\n/; Include ligand topology #include \"jz4.itp\"\\n&/ }\" topol.txt\n",
        "#you shoud see there is one more line before **\"Include water topology\"** now you need to put \"#inclue \"jz4.inp\" to the next line. Pay attention to the **\" \"**, since they are likely to be missed out.\n",
        "!tail -25 topol.txt\n",
        "#Please make sure you have put the following before \n",
        "#**Include water topology.**\n",
        "\n",
        "#```\n",
        "#; Include ligand topology \n",
        "#include \"jz4.itp\"\n",
        "#```\n",
        "\n",
        "!tail -25 topol.txt\n",
        "!echo \"JZ4           1\" >> topol.txt\n",
        "!tail -25 topol.txt\n",
        "#Now you should notice there is one more line at the end\n",
        "\n",
        "\n",
        "#```\n",
        "#Protein_chain_A     1\n",
        "#```\n",
        "#manually insert the another block,\n",
        "\n",
        "#```\n",
        "#; Include ligand parameters\n",
        " #include \"jz4.prm\"\n",
        "#```\n",
        "#before [moleculetype]\n",
        "!head -30 topol.txt\n",
        "!cat topol.txt > topol.top # again, here I used cat instead of mv to keep topol.txt as an extra copy in case there might be an error later\n",
        "#Let's double check the topol.top\n",
        "!cat topol.top"
      ],
      "execution_count": null,
      "outputs": []
    },
    {
      "cell_type": "code",
      "metadata": {
        "id": "QG1rFpGeU132",
        "cellView": "form"
      },
      "source": [
        "#@title 10. Gromacs simulation\n",
        "!/usr/local/gromacs/bin/gmx editconf -f complex.gro -o newbox.gro -bt dodecahedron -d 10.0 \n",
        "#After this, there shouldn't be any change in the topology file, since there is only a \"box\" was added to the gro file\n",
        "#There should be a newbox.gro files was written as an output.\n",
        "!tail topol.top\n",
        "!/usr/local/gromacs/bin/gmx solvate -cp newbox.gro -cs spc216.gro -p topol.top -o solv.gro \n",
        "!tail topol.top\n",
        "#Now you should see 10294 waters added to the topology, \n",
        "!wget http://www.mdtutorials.com/gmx/complex/Files/ions.mdp\n",
        "!/usr/local/gromacs/bin/gmx grompp -f ions.mdp -c solv.gro -p topol.top -o ions.tpr\n",
        "\n",
        "#**If you encounter an error here saying that you have different atom numbers in gro and top file, open the topol.top file to see if the JZ4 molecule type had bee actually added to the last block of the top file.**\n",
        "#please select group 15:SOL for the next command\n",
        "!/usr/local/gromacs/bin/gmx genion -s ions.tpr -o solv_ions.gro -p topol.top -pname NA -nname CL -neutral \n",
        "\n",
        "!tail topol.top\n",
        "#Now you should see the solvent have decreased a little bit and 6 more chloride ions added instead\n",
        "!wget http://www.mdtutorials.com/gmx/complex/Files/em.mdp\n",
        "!/usr/local/gromacs/bin/gmx grompp -f em.mdp -c solv_ions.gro -p topol.top -o em.tpr\n",
        "!/usr/local/gromacs/bin/gmx  mdrun -ntmpi 2 -ntomp 1 -v -deffnm em -nb gpu\n",
        "# -ntmpi 2 -ntomp 1 -pin on -nb gpu (ommand improved)\n",
        "# Make restrains\n",
        "\n",
        "\n",
        "#```\n",
        "## Input this for the next command\n",
        "# > 0 & ! a H*\n",
        "# > q\n",
        "#```\n",
        "\n",
        "\n",
        "!/usr/local/gromacs/bin/gmx make_ndx -f jz4.gro -o index_jz4.ndx\n",
        "#select **\"group 3\"** for the next command\n",
        "!/usr/local/gromacs/bin/gmx genrestr -f jz4.gro -n index_jz4.ndx -o posre_jz4.itp -fc 1000 1000 1000\n",
        "# **next we need to modify the topology file again**\n",
        "! cat topol.top > topol_2.txt\n",
        "#copy and pase this before **\"Include waters topology\"**\n",
        "\n",
        "#``` \n",
        "#; Ligand position restraints\n",
        "##ifdef POSRES\n",
        "##include \"posre_jz4.itp\"\n",
        "##endif\n",
        "#```\n",
        "#I don't suggest you use next line command unless you know what it exactly will do, just copy and paste maybe. \n",
        "#!sed -i \"/; Include water topology/ { N; s/; Include water topology\\n/; Ligand position restraints ifdef POSRES include \"posre_jz4.itp\" endif\\n&/ }\" topol_2.txt\n",
        "!tail -30 topol_2.txt\n",
        "!cat topol_2.txt > topol.top \n",
        "#**Input this for the next command**\n",
        "#```\n",
        "#> 1 | 13\n",
        "#> q\n",
        "#```\n",
        "#温度控制\n",
        "!/usr/local/gromacs/bin/gmx make_ndx -f em.gro -o index.ndx"
      ],
      "execution_count": null,
      "outputs": []
    },
    {
      "cell_type": "code",
      "metadata": {
        "id": "QWcpQnClSY7-"
      },
      "source": [
        "%%bash\n",
        "cd /content/\n",
        "mkdir new\n",
        "cd new"
      ],
      "execution_count": null,
      "outputs": []
    }
  ]
}